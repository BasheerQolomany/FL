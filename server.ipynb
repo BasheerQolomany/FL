{
  "nbformat": 4,
  "nbformat_minor": 0,
  "metadata": {
    "colab": {
      "name": "server.ipynb",
      "provenance": [],
      "collapsed_sections": []
    },
    "kernelspec": {
      "name": "python3",
      "display_name": "Python 3"
    }
  },
  "cells": [
    {
      "cell_type": "code",
      "metadata": {
        "id": "hHdZZf89Q92z",
        "colab_type": "code",
        "colab": {}
      },
      "source": [
        "import threading\n",
        "class Server:\n",
        "    def __init__(self):\n",
        "        self.weights = None # what to fill in here\n",
        "        self.num_samples = 0\n",
        "        self.lock = threading.Lock()\n",
        "\n",
        "    def update_weights(self, num_samples, weights):\n",
        "        with self.lock:\n",
        "            self.num_samples += num_samples\n",
        "            for sw, w in zip(self.weights, weights):\n",
        "                sw += num_samples * w\n",
        "\n",
        "    def get_weights(self):\n",
        "        with self.lock:\n",
        "            if self.num_samples == 0:\n",
        "                return self.weights\n",
        "\n",
        "            for w in self.weights:\n",
        "                w /= self.num_samples\n",
        "            self.num_samples = 0\n",
        "            return self.weights\n"
      ],
      "execution_count": 0,
      "outputs": []
    }
  ]
}